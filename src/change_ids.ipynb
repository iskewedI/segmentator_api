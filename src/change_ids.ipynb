{
 "cells": [
  {
   "cell_type": "code",
   "execution_count": 2,
   "metadata": {},
   "outputs": [],
   "source": [
    "import json\n",
    "\n",
    "f = open('ANNOTATIONS FILE')\n",
    "\n",
    "data = json.load(f)\n",
    "\n",
    "# Last ID used by the other file\n",
    "last_used_img_id = 893\n",
    "last_used_ann_id = 1656\n",
    "\n",
    "# Iterate for all images and generate a dict <key: lastvalue; val: updatedvalue>\n",
    "# Dict shape <old, new>\n",
    "updated_img_ids = {}\n",
    "\n",
    "for i, image in enumerate(data[\"images\"]):\n",
    "    last_used_img_id += 1\n",
    "    \n",
    "    updated_img_ids[image[\"id\"]] = last_used_img_id\n",
    "    data[\"images\"][i][\"id\"] = last_used_img_id\n",
    "\n",
    "# Iterate for all annotations and set image_id[ann[\"image_id\"]>] = updatedvalue\n",
    "\n",
    "for i, annotation in enumerate(data[\"annotations\"]):\n",
    "    last_used_ann_id += 1\n",
    "\n",
    "    data[\"annotations\"][i][\"id\"] = last_used_ann_id\n",
    "\n",
    "    new_img_id = updated_img_ids.get(annotation[\"image_id\"])\n",
    "    if(new_img_id is None):\n",
    "        print(f\"Couldn't find related annotation image with id {annotation['image_id']}\")\n",
    "        continue\n",
    "\n",
    "    data[\"annotations\"][i][\"image_id\"] = new_img_id\n",
    "\n",
    "with open(\"./result.json\", \"w\") as fp:\n",
    "    json.dump(data, fp)\n"
   ]
  }
 ],
 "metadata": {
  "kernelspec": {
   "display_name": "Python 3",
   "language": "python",
   "name": "python3"
  },
  "language_info": {
   "codemirror_mode": {
    "name": "ipython",
    "version": 3
   },
   "file_extension": ".py",
   "mimetype": "text/x-python",
   "name": "python",
   "nbconvert_exporter": "python",
   "pygments_lexer": "ipython3",
   "version": "3.7.0"
  },
  "orig_nbformat": 4,
  "vscode": {
   "interpreter": {
    "hash": "7f7c2960c02097457ad99a82c28820936e5e805a92fda3ec0a6d6e129c3be463"
   }
  }
 },
 "nbformat": 4,
 "nbformat_minor": 2
}
