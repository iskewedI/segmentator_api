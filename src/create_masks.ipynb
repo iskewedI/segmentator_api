{
 "cells": [
  {
   "cell_type": "code",
   "execution_count": 1,
   "metadata": {},
   "outputs": [
    {
     "name": "stdout",
     "output_type": "stream",
     "text": [
      "loading annotations into memory...\n",
      "Done (t=0.04s)\n",
      "creating index...\n",
      "index created!\n"
     ]
    }
   ],
   "source": [
    "import os\n",
    "import cv2\n",
    "from pycocotools.coco import COCO\n",
    "import numpy as np\n",
    "from matplotlib import pyplot as plt\n",
    "import pandas as pd\n",
    "%matplotlib inline\n",
    "\n",
    "coco = COCO(\"../custom data/data.json\")\n",
    "data = []\n",
    "\n",
    "for img_id in coco.imgs:\n",
    "    img = coco.imgs[img_id]\n",
    "    cat_ids = coco.getCatIds()\n",
    "    anns_ids = coco.getAnnIds(imgIds=img['id'], catIds=cat_ids, iscrowd=None)\n",
    "    anns = coco.loadAnns(anns_ids)\n",
    "\n",
    "    for ann in anns:\n",
    "        rle = coco.annToRLE(ann)\n",
    "        \n",
    "        data.append({\n",
    "            \"ImageId\": img[\"file_name\"],\n",
    "            \"EncodedPixels\": rle[\"counts\"],\n",
    "            \"Height\": rle[\"size\"][0],\n",
    "            \"Width\": rle[\"size\"][1],\n",
    "            \"ClassId\": f\"{ann['category_id']}_0\"\n",
    "        })\n",
    "\n",
    "train_df = pd.DataFrame(data, columns=[\"ImageId\", \"EncodedPixels\", \"Height\", \"Width\", \"ClassId\"])\n",
    "\n",
    "train_df.to_csv(\"./train.csv\" , index=False)"
   ]
  }
 ],
 "metadata": {
  "kernelspec": {
   "display_name": "Python 3",
   "language": "python",
   "name": "python3"
  },
  "language_info": {
   "codemirror_mode": {
    "name": "ipython",
    "version": 3
   },
   "file_extension": ".py",
   "mimetype": "text/x-python",
   "name": "python",
   "nbconvert_exporter": "python",
   "pygments_lexer": "ipython3",
   "version": "3.7.0"
  },
  "orig_nbformat": 4,
  "vscode": {
   "interpreter": {
    "hash": "7f7c2960c02097457ad99a82c28820936e5e805a92fda3ec0a6d6e129c3be463"
   }
  }
 },
 "nbformat": 4,
 "nbformat_minor": 2
}
